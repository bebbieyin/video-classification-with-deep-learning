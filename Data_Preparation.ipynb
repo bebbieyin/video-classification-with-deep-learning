{
 "cells": [
  {
   "cell_type": "markdown",
   "metadata": {},
   "source": [
    "# Data Preparation"
   ]
  },
  {
   "cell_type": "code",
   "execution_count": 1,
   "metadata": {},
   "outputs": [],
   "source": [
    "import cv2     \n",
    "import matplotlib.pyplot as plt   \n",
    "%matplotlib inline\n",
    "import pandas as pd\n",
    "import numpy as np   \n",
    "from sklearn.model_selection import train_test_split\n",
    "import os\n",
    "import pickle\n",
    "import splitfolders as splitfolders\n",
    "from tqdm import tqdm\n",
    "import math\n",
    "import random"
   ]
  },
  {
   "cell_type": "markdown",
   "metadata": {},
   "source": [
    "### Split the videos into training and testing set"
   ]
  },
  {
   "cell_type": "markdown",
   "metadata": {},
   "source": [
    "Split first so we don't get same videos in training and testing set or else the accuracy will be unrealistically  high"
   ]
  },
  {
   "cell_type": "code",
   "execution_count": 2,
   "metadata": {},
   "outputs": [
    {
     "name": "stderr",
     "output_type": "stream",
     "text": [
      "Copying files: 550 files [08:47,  1.04 files/s]\n"
     ]
    }
   ],
   "source": [
    "# split the files into training(80%)and testing set(20%)\n",
    "\n",
    "input_folder = 'Anomaly_Dataset/Anomaly_Videos/'\n",
    "output_folder = 'Anomaly_Dataset'\n",
    "splitfolders.ratio(input_folder, output=output_folder, seed=1337, ratio=(.8,.0,.2), group_prefix=None) # default values"
   ]
  },
  {
   "cell_type": "code",
   "execution_count": 3,
   "metadata": {},
   "outputs": [],
   "source": [
    "# get the names of all the files in the test, val and train folders\n",
    "\n",
    "def getSetFiles(path):\n",
    "    listOfFiles = list()\n",
    "    for (dirpath, dirnames, filenames) in os.walk(path):\n",
    "        for file in filenames:\n",
    "            fullpath = os.path.join(dirpath,file)\n",
    "            pathname = os.path.dirname(fullpath)\n",
    "            foldername = os.path.basename(pathname)\n",
    "            listOfFiles += [os.path.join(foldername,file)]\n",
    "    return listOfFiles"
   ]
  },
  {
   "cell_type": "markdown",
   "metadata": {},
   "source": [
    "### Label the videos and save them in a text file"
   ]
  },
  {
   "cell_type": "code",
   "execution_count": 4,
   "metadata": {},
   "outputs": [],
   "source": [
    "# create a text file containing all the file names\n",
    "\n",
    "def generateTextFile(folder,fileName):\n",
    "    getSetFiles(folder)\n",
    "    list1 = getSetFiles(folder)\n",
    "    with open(fileName, \"w+\") as output:\n",
    "        for elem in list1:\n",
    "            output.write(\"%s\\n\" % elem)"
   ]
  },
  {
   "cell_type": "code",
   "execution_count": 5,
   "metadata": {},
   "outputs": [],
   "source": [
    "generateTextFile(\"Anomaly_Dataset/test\",\"Anomaly_Dataset/test.txt\")\n",
    "generateTextFile(\"Anomaly_Dataset/train\",\"Anomaly_Dataset/train.txt\")"
   ]
  },
  {
   "cell_type": "code",
   "execution_count": 6,
   "metadata": {},
   "outputs": [],
   "source": [
    "# open the text file with file names\n",
    "\n",
    "def openFile(file):\n",
    "    file = open(file, \"r\")\n",
    "    temp = file.read()\n",
    "    items = temp.split('\\n') # split each item\n",
    "    return items"
   ]
  },
  {
   "cell_type": "code",
   "execution_count": 7,
   "metadata": {},
   "outputs": [
    {
     "data": {
      "text/html": [
       "<div>\n",
       "<style scoped>\n",
       "    .dataframe tbody tr th:only-of-type {\n",
       "        vertical-align: middle;\n",
       "    }\n",
       "\n",
       "    .dataframe tbody tr th {\n",
       "        vertical-align: top;\n",
       "    }\n",
       "\n",
       "    .dataframe thead th {\n",
       "        text-align: right;\n",
       "    }\n",
       "</style>\n",
       "<table border=\"1\" class=\"dataframe\">\n",
       "  <thead>\n",
       "    <tr style=\"text-align: right;\">\n",
       "      <th></th>\n",
       "      <th>category</th>\n",
       "      <th>video_name</th>\n",
       "    </tr>\n",
       "  </thead>\n",
       "  <tbody>\n",
       "    <tr>\n",
       "      <td>0</td>\n",
       "      <td>Crime</td>\n",
       "      <td>Abuse007_x264.mp4</td>\n",
       "    </tr>\n",
       "    <tr>\n",
       "      <td>1</td>\n",
       "      <td>Crime</td>\n",
       "      <td>Abuse009_x264.mp4</td>\n",
       "    </tr>\n",
       "    <tr>\n",
       "      <td>2</td>\n",
       "      <td>Crime</td>\n",
       "      <td>Abuse010_x264.mp4</td>\n",
       "    </tr>\n",
       "    <tr>\n",
       "      <td>3</td>\n",
       "      <td>Crime</td>\n",
       "      <td>Abuse023_x264.mp4</td>\n",
       "    </tr>\n",
       "    <tr>\n",
       "      <td>4</td>\n",
       "      <td>Crime</td>\n",
       "      <td>Abuse024_x264.mp4</td>\n",
       "    </tr>\n",
       "    <tr>\n",
       "      <td>...</td>\n",
       "      <td>...</td>\n",
       "      <td>...</td>\n",
       "    </tr>\n",
       "    <tr>\n",
       "      <td>105</td>\n",
       "      <td>Normal</td>\n",
       "      <td>Normal_Videos_923_x264.mp4</td>\n",
       "    </tr>\n",
       "    <tr>\n",
       "      <td>106</td>\n",
       "      <td>Normal</td>\n",
       "      <td>Normal_Videos_926_x264.mp4</td>\n",
       "    </tr>\n",
       "    <tr>\n",
       "      <td>107</td>\n",
       "      <td>Normal</td>\n",
       "      <td>Normal_Videos_930_x264.mp4</td>\n",
       "    </tr>\n",
       "    <tr>\n",
       "      <td>108</td>\n",
       "      <td>Normal</td>\n",
       "      <td>Normal_Videos_940_x264.mp4</td>\n",
       "    </tr>\n",
       "    <tr>\n",
       "      <td>109</td>\n",
       "      <td>Normal</td>\n",
       "      <td>Normal_Videos_943_x264.mp4</td>\n",
       "    </tr>\n",
       "  </tbody>\n",
       "</table>\n",
       "<p>110 rows × 2 columns</p>\n",
       "</div>"
      ],
      "text/plain": [
       "    category                  video_name\n",
       "0      Crime           Abuse007_x264.mp4\n",
       "1      Crime           Abuse009_x264.mp4\n",
       "2      Crime           Abuse010_x264.mp4\n",
       "3      Crime           Abuse023_x264.mp4\n",
       "4      Crime           Abuse024_x264.mp4\n",
       "..       ...                         ...\n",
       "105   Normal  Normal_Videos_923_x264.mp4\n",
       "106   Normal  Normal_Videos_926_x264.mp4\n",
       "107   Normal  Normal_Videos_930_x264.mp4\n",
       "108   Normal  Normal_Videos_940_x264.mp4\n",
       "109   Normal  Normal_Videos_943_x264.mp4\n",
       "\n",
       "[110 rows x 2 columns]"
      ]
     },
     "execution_count": 7,
     "metadata": {},
     "output_type": "execute_result"
    }
   ],
   "source": [
    "# create tag for the testing videos\n",
    "df_test = pd.read_csv(\"Anomaly_Dataset/test.txt\", sep='\\\\',header=None) \n",
    "df_test.columns=['category','video_name']\n",
    "df_test"
   ]
  },
  {
   "cell_type": "code",
   "execution_count": 8,
   "metadata": {},
   "outputs": [
    {
     "data": {
      "text/html": [
       "<div>\n",
       "<style scoped>\n",
       "    .dataframe tbody tr th:only-of-type {\n",
       "        vertical-align: middle;\n",
       "    }\n",
       "\n",
       "    .dataframe tbody tr th {\n",
       "        vertical-align: top;\n",
       "    }\n",
       "\n",
       "    .dataframe thead th {\n",
       "        text-align: right;\n",
       "    }\n",
       "</style>\n",
       "<table border=\"1\" class=\"dataframe\">\n",
       "  <thead>\n",
       "    <tr style=\"text-align: right;\">\n",
       "      <th></th>\n",
       "      <th>category</th>\n",
       "      <th>video_name</th>\n",
       "    </tr>\n",
       "  </thead>\n",
       "  <tbody>\n",
       "    <tr>\n",
       "      <td>0</td>\n",
       "      <td>Crime</td>\n",
       "      <td>Abuse001_x264.mp4</td>\n",
       "    </tr>\n",
       "    <tr>\n",
       "      <td>1</td>\n",
       "      <td>Crime</td>\n",
       "      <td>Abuse002_x264.mp4</td>\n",
       "    </tr>\n",
       "    <tr>\n",
       "      <td>2</td>\n",
       "      <td>Crime</td>\n",
       "      <td>Abuse003_x264.mp4</td>\n",
       "    </tr>\n",
       "    <tr>\n",
       "      <td>3</td>\n",
       "      <td>Crime</td>\n",
       "      <td>Abuse004_x264.mp4</td>\n",
       "    </tr>\n",
       "    <tr>\n",
       "      <td>4</td>\n",
       "      <td>Crime</td>\n",
       "      <td>Abuse005_x264.mp4</td>\n",
       "    </tr>\n",
       "    <tr>\n",
       "      <td>...</td>\n",
       "      <td>...</td>\n",
       "      <td>...</td>\n",
       "    </tr>\n",
       "    <tr>\n",
       "      <td>435</td>\n",
       "      <td>Normal</td>\n",
       "      <td>Normal_Videos_937_x264.mp4</td>\n",
       "    </tr>\n",
       "    <tr>\n",
       "      <td>436</td>\n",
       "      <td>Normal</td>\n",
       "      <td>Normal_Videos_938_x264.mp4</td>\n",
       "    </tr>\n",
       "    <tr>\n",
       "      <td>437</td>\n",
       "      <td>Normal</td>\n",
       "      <td>Normal_Videos_939_x264.mp4</td>\n",
       "    </tr>\n",
       "    <tr>\n",
       "      <td>438</td>\n",
       "      <td>Normal</td>\n",
       "      <td>Normal_Videos_941_x264.mp4</td>\n",
       "    </tr>\n",
       "    <tr>\n",
       "      <td>439</td>\n",
       "      <td>Normal</td>\n",
       "      <td>Normal_Videos_944_x264.mp4</td>\n",
       "    </tr>\n",
       "  </tbody>\n",
       "</table>\n",
       "<p>440 rows × 2 columns</p>\n",
       "</div>"
      ],
      "text/plain": [
       "    category                  video_name\n",
       "0      Crime           Abuse001_x264.mp4\n",
       "1      Crime           Abuse002_x264.mp4\n",
       "2      Crime           Abuse003_x264.mp4\n",
       "3      Crime           Abuse004_x264.mp4\n",
       "4      Crime           Abuse005_x264.mp4\n",
       "..       ...                         ...\n",
       "435   Normal  Normal_Videos_937_x264.mp4\n",
       "436   Normal  Normal_Videos_938_x264.mp4\n",
       "437   Normal  Normal_Videos_939_x264.mp4\n",
       "438   Normal  Normal_Videos_941_x264.mp4\n",
       "439   Normal  Normal_Videos_944_x264.mp4\n",
       "\n",
       "[440 rows x 2 columns]"
      ]
     },
     "execution_count": 8,
     "metadata": {},
     "output_type": "execute_result"
    }
   ],
   "source": [
    "# create tag for the training videos\n",
    "\n",
    "df_train = pd.read_csv(\"Anomaly_Dataset/train.txt\", sep='\\\\',header=None) \n",
    "df_train.columns=['category','video_name']\n",
    "df_train"
   ]
  },
  {
   "cell_type": "markdown",
   "metadata": {},
   "source": [
    "### Extract frames from the videos and label them"
   ]
  },
  {
   "cell_type": "code",
   "execution_count": 9,
   "metadata": {},
   "outputs": [
    {
     "name": "stderr",
     "output_type": "stream",
     "text": [
      "100%|████████████████████████████████████████████████████████████████████████████████| 440/440 [12:00<00:00,  1.64s/it]\n"
     ]
    }
   ],
   "source": [
    "## extract frames from training videos\n",
    "\n",
    "for i in tqdm(range(df_train.shape[0])):\n",
    "    count = 0\n",
    "    folderName = df_train['category'][i]\n",
    "    videoFile = df_train['video_name'][i]\n",
    "    cap = cv2.VideoCapture('Anomaly_Dataset/train/'+folderName+'/'+videoFile)  # capturing the video from the given path\n",
    "    frameRate = cap.get(5) #frame rate\n",
    "    x=1\n",
    "\n",
    "    while(cap.isOpened()):\n",
    "        frameId = cap.get(1) #current frame number\n",
    "        ret, frame = cap.read()\n",
    "        if (ret != True):\n",
    "            break\n",
    "        if (frameId % math.floor(frameRate) == 0):\n",
    "            # storing the frames in a new folder named train_img\n",
    "            \n",
    "            filename =\"Anomaly_Dataset/train_img/\" +df_train['category'][i]+'/'+ df_train['video_name'][i].split('.',1)[0] +\"_frame%d.jpg\" %count;count+=1 \n",
    "            cv2.imwrite(filename, frame)\n",
    "    cap.release()"
   ]
  },
  {
   "cell_type": "code",
   "execution_count": 10,
   "metadata": {},
   "outputs": [
    {
     "name": "stderr",
     "output_type": "stream",
     "text": [
      "100%|███████████████████████████████████████████████████████████████████████████████████| 2/2 [23:11<00:00, 695.90s/it]\n"
     ]
    }
   ],
   "source": [
    "# label the training images extracted from the videos\n",
    "\n",
    "DATADIR = \"Anomaly_Dataset\\\\train_img\"\n",
    "CATEGORIES = [\"Crime\",\"Normal\"]\n",
    "\n",
    "train_img=[]\n",
    "\n",
    "for category in tqdm(CATEGORIES):\n",
    "    path = os.path.join(DATADIR,category)\n",
    "\n",
    "    class_num = CATEGORIES.index(category)\n",
    "\n",
    "    for img in os.listdir(path):\n",
    "        img_array = cv2.imread(os.path.join(path,img))\n",
    "            \n",
    "        #add the images to training set\n",
    "        train_img.append([img_array,class_num])"
   ]
  },
  {
   "cell_type": "code",
   "execution_count": 11,
   "metadata": {},
   "outputs": [
    {
     "name": "stderr",
     "output_type": "stream",
     "text": [
      "100%|████████████████████████████████████████████████████████████████████████████████| 110/110 [03:36<00:00,  1.97s/it]\n"
     ]
    }
   ],
   "source": [
    "# extract frames from testing videos\n",
    "\n",
    "for i in tqdm(range(df_test.shape[0])):\n",
    "    count = 0\n",
    "    folderName = df_test['category'][i]\n",
    "    videoFile = df_test['video_name'][i]\n",
    "    cap = cv2.VideoCapture('Anomaly_Dataset/test/'+folderName+'/'+videoFile)  # capturing the video from the given path\n",
    "    frameRate = cap.get(5) #frame rate\n",
    "    x=1\n",
    "\n",
    "    while(cap.isOpened()):\n",
    "        frameId = cap.get(1) #current frame number\n",
    "        ret, frame = cap.read()\n",
    "        if (ret != True):\n",
    "            break\n",
    "        if (frameId % math.floor(frameRate) == 0):\n",
    "            # storing the frames in a new folder named train_img\n",
    "            filename =\"Anomaly_Dataset/test_img/\" +df_test['category'][i]+'/'+ df_test['video_name'][i].split('.',1)[0] +\"_frame%d.jpg\" %count;count+=1 \n",
    "            cv2.imwrite(filename, frame)\n",
    "    cap.release()"
   ]
  },
  {
   "cell_type": "code",
   "execution_count": 12,
   "metadata": {},
   "outputs": [
    {
     "name": "stderr",
     "output_type": "stream",
     "text": [
      "100%|███████████████████████████████████████████████████████████████████████████████████| 2/2 [06:53<00:00, 206.94s/it]\n"
     ]
    }
   ],
   "source": [
    "# label the testing image file\n",
    "\n",
    "DATADIR = \"Anomaly_Dataset\\\\test_img\"\n",
    "CATEGORIES = [\"Crime\",\"Normal\"]\n",
    "\n",
    "test_img=[]\n",
    "\n",
    "for category in tqdm(CATEGORIES):\n",
    "    path = os.path.join(DATADIR,category)\n",
    "\n",
    "    class_num = CATEGORIES.index(category)\n",
    "\n",
    "    for img in os.listdir(path):\n",
    "        img_array = cv2.imread(os.path.join(path,img))\n",
    "\n",
    "            \n",
    "        #add the images to training set\n",
    "        test_img.append([img_array,class_num])"
   ]
  },
  {
   "cell_type": "markdown",
   "metadata": {},
   "source": [
    "### Convert image files to numpy array"
   ]
  },
  {
   "cell_type": "code",
   "execution_count": 23,
   "metadata": {},
   "outputs": [
    {
     "name": "stdout",
     "output_type": "stream",
     "text": [
      "Shape of array X:  (66033, 240, 320, 3)\n",
      "Shape of array Y:  (66033,)\n"
     ]
    }
   ],
   "source": [
    "# seperate the image and label to new list and convert them to numpy array \n",
    "X_train = []\n",
    "y_train = []\n",
    "\n",
    "for frames,label in train_img:\n",
    "    X_train.append(frames)\n",
    "    y_train.append(label)\n",
    "    \n",
    "X_train = np.array(X_train)\n",
    "y_train = np.array(y_train)\n",
    "\n",
    "print(\"Shape of array X: \",X_train.shape)\n",
    "print(\"Shape of array Y: \",y_train.shape)"
   ]
  },
  {
   "cell_type": "code",
   "execution_count": 24,
   "metadata": {},
   "outputs": [
    {
     "name": "stdout",
     "output_type": "stream",
     "text": [
      "Shape of array X_test:  (18369, 240, 320, 3)\n",
      "Shape of array Y_test:  (18369,)\n"
     ]
    }
   ],
   "source": [
    "# seperate the image and label to new list and convert them to numpy array \n",
    "X_test = []\n",
    "y_test = []\n",
    "\n",
    "for features,label in test_img:\n",
    "    X_test.append(features)\n",
    "    y_test.append(label)\n",
    "\n",
    "X_test = np.array(X_test)\n",
    "y_test = np.array(y_test)\n",
    "print(\"Shape of array X_test: \",X_test.shape)\n",
    "print(\"Shape of array Y_test: \",y_test.shape)"
   ]
  },
  {
   "cell_type": "markdown",
   "metadata": {},
   "source": [
    "### Export to pickle file"
   ]
  },
  {
   "cell_type": "code",
   "execution_count": 25,
   "metadata": {},
   "outputs": [],
   "source": [
    "\n",
    "# save numpy array as npy file\n",
    "from numpy import asarray\n",
    "from numpy import save\n",
    "\n",
    "save('x_train.npy', X_train)\n",
    "\n",
    "save('y_train.npy', y_train)\n",
    "\n",
    "save('x_test.npy', X_test)\n",
    "\n",
    "save('y_test.npy', y_test)\n",
    "\n"
   ]
  }
 ],
 "metadata": {
  "kernelspec": {
   "display_name": "Python 3",
   "language": "python",
   "name": "python3"
  },
  "language_info": {
   "codemirror_mode": {
    "name": "ipython",
    "version": 3
   },
   "file_extension": ".py",
   "mimetype": "text/x-python",
   "name": "python",
   "nbconvert_exporter": "python",
   "pygments_lexer": "ipython3",
   "version": "3.8.5"
  }
 },
 "nbformat": 4,
 "nbformat_minor": 4
}
