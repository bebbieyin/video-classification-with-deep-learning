{
 "cells": [
  {
   "cell_type": "markdown",
   "metadata": {},
   "source": [
    "# RNN"
   ]
  },
  {
   "cell_type": "code",
   "execution_count": 2,
   "metadata": {},
   "outputs": [],
   "source": [
    "from tensorflow.keras.layers import LSTM\n",
    "from tensorflow.keras.models import Sequential\n",
    "from tensorflow.keras.layers import Dropout, Flatten, Dense\n",
    "from tensorflow.keras.optimizers import SGD\n",
    "import matplotlib.pyplot as plt\n",
    "from sklearn.preprocessing import LabelBinarizer\n",
    "from tensorflow.keras.models import load_model\n",
    "from tensorflow.keras.preprocessing.image import ImageDataGenerator\n",
    "import numpy as np\n",
    "import pickle\n",
    "import tensorflow as tf\n",
    "import keras"
   ]
  },
  {
   "cell_type": "code",
   "execution_count": 4,
   "metadata": {},
   "outputs": [],
   "source": [
    "# load numpy array from npy file\n",
    "from numpy import load\n",
    "# load array\n",
    "X_train = load('x_train.npy')\n",
    "y_train = load('y_train.npy')\n",
    "y_test = load('y_test.npy')\n",
    "x_test = load('x_test.npy')"
   ]
  },
  {
   "cell_type": "code",
   "execution_count": 12,
   "metadata": {},
   "outputs": [],
   "source": [
    "X_train = X_train.reshape(X_train.shape[0],240,320*3)\n",
    "x_test = x_test.reshape(x_test.shape[0],240,320*3)"
   ]
  },
  {
   "cell_type": "code",
   "execution_count": 13,
   "metadata": {},
   "outputs": [],
   "source": [
    "from keras.utils import to_categorical\n",
    "y_train_one_hot = to_categorical(y_train)\n",
    "y_test_one_hot = to_categorical(y_test)"
   ]
  },
  {
   "cell_type": "code",
   "execution_count": 14,
   "metadata": {},
   "outputs": [],
   "source": [
    "np.random.shuffle(X_train)\n",
    "np.random.shuffle(y_train_one_hot)"
   ]
  },
  {
   "cell_type": "markdown",
   "metadata": {},
   "source": [
    "## Build the model"
   ]
  },
  {
   "cell_type": "code",
   "execution_count": 15,
   "metadata": {},
   "outputs": [],
   "source": [
    "# define the class weight becuase the two classes are not even\n",
    "\n",
    "class_weight = {0: 1, 1: 2.7}"
   ]
  },
  {
   "cell_type": "code",
   "execution_count": 16,
   "metadata": {},
   "outputs": [
    {
     "name": "stdout",
     "output_type": "stream",
     "text": [
      "Model: \"sequential\"\n",
      "_________________________________________________________________\n",
      "Layer (type)                 Output Shape              Param #   \n",
      "=================================================================\n",
      "lstm (LSTM)                  (None, 256)               1246208   \n",
      "_________________________________________________________________\n",
      "dense (Dense)                (None, 1024)              263168    \n",
      "_________________________________________________________________\n",
      "dropout (Dropout)            (None, 1024)              0         \n",
      "_________________________________________________________________\n",
      "dense_1 (Dense)              (None, 2)                 2050      \n",
      "=================================================================\n",
      "Total params: 1,511,426\n",
      "Trainable params: 1,511,426\n",
      "Non-trainable params: 0\n",
      "_________________________________________________________________\n"
     ]
    }
   ],
   "source": [
    "# define the model\n",
    "\n",
    "model = Sequential()\n",
    "model.add(LSTM(256,dropout=0.2,input_shape=(X_train.shape[1],X_train.shape[2])))\n",
    "\n",
    "# dense layer for classification\n",
    "model.add(Dense(1024, activation='relu'))\n",
    "model.add(Dropout(0.5)) # dropout layer helps with overfitting\n",
    "model.add(Dense(2, activation='softmax')) # final layer eight classes output\n",
    "model.summary()"
   ]
  },
  {
   "cell_type": "code",
   "execution_count": 17,
   "metadata": {},
   "outputs": [],
   "source": [
    "# optimizer \n",
    "\n",
    "model.compile(loss='categorical_crossentropy', \n",
    "              optimizer='adam',\n",
    "              weighted_metrics=['accuracy'])"
   ]
  },
  {
   "cell_type": "code",
   "execution_count": 20,
   "metadata": {},
   "outputs": [],
   "source": [
    "# define a callback list \n",
    "\n",
    "my_callbacks = [\n",
    "    \n",
    "    # stop if val_loss has no improvement for 4 epochs\n",
    "    tf.keras.callbacks.EarlyStopping(patience=4,restore_best_weights=True,monitor='val_accuracy'),\n",
    "    \n",
    "    # save the model after each epoch, monitor the val_acc for max value, save only the best weights\n",
    "    tf.keras.callbacks.ModelCheckpoint(filepath='checkpoints/rnn_checkpoint.h5',monitor='val_acc',\n",
    "                                      save_best_only=True,mode='max',save_freq='epoch'),\n",
    "    \n",
    "    tf.keras.callbacks.TensorBoard(log_dir='./logs'),\n",
    "]"
   ]
  },
  {
   "cell_type": "code",
   "execution_count": 19,
   "metadata": {
    "scrolled": true
   },
   "outputs": [
    {
     "name": "stdout",
     "output_type": "stream",
     "text": [
      "Epoch 1/10\n",
      "   1/1651 [..............................] - ETA: 0s - loss: 1.0706 - accuracy: 0.5694WARNING:tensorflow:From C:\\Users\\bebbi\\AppData\\Roaming\\Python\\Python37\\site-packages\\tensorflow\\python\\ops\\summary_ops_v2.py:1277: stop (from tensorflow.python.eager.profiler) is deprecated and will be removed after 2020-07-01.\n",
      "Instructions for updating:\n",
      "use `tf.profiler.experimental.stop` instead.\n",
      "1651/1651 [==============================] - ETA: 0s - loss: 1.0006 - accuracy: 0.5110WARNING:tensorflow:Can save best model only with val_acc available, skipping.\n",
      "1651/1651 [==============================] - 2656s 2s/step - loss: 1.0006 - accuracy: 0.5110 - val_loss: 0.6786 - val_accuracy: 0.6040\n",
      "Epoch 2/10\n",
      "1651/1651 [==============================] - ETA: 0s - loss: 0.9935 - accuracy: 0.5145WARNING:tensorflow:Can save best model only with val_acc available, skipping.\n",
      "1651/1651 [==============================] - 2715s 2s/step - loss: 0.9935 - accuracy: 0.5145 - val_loss: 0.6774 - val_accuracy: 0.7329\n",
      "Epoch 3/10\n",
      "1651/1651 [==============================] - ETA: 0s - loss: 0.9937 - accuracy: 0.5188WARNING:tensorflow:Can save best model only with val_acc available, skipping.\n",
      "1651/1651 [==============================] - 2609s 2s/step - loss: 0.9937 - accuracy: 0.5188 - val_loss: 0.6699 - val_accuracy: 0.7346\n",
      "Epoch 4/10\n",
      "1651/1651 [==============================] - ETA: 0s - loss: 0.9939 - accuracy: 0.5205WARNING:tensorflow:Can save best model only with val_acc available, skipping.\n",
      "1651/1651 [==============================] - 2572s 2s/step - loss: 0.9939 - accuracy: 0.5205 - val_loss: 0.6881 - val_accuracy: 0.5991\n",
      "Epoch 5/10\n",
      "1651/1651 [==============================] - ETA: 0s - loss: 0.9929 - accuracy: 0.5208WARNING:tensorflow:Can save best model only with val_acc available, skipping.\n",
      "1651/1651 [==============================] - 2562s 2s/step - loss: 0.9929 - accuracy: 0.5208 - val_loss: 0.6842 - val_accuracy: 0.5887\n",
      "Epoch 6/10\n",
      "1651/1651 [==============================] - ETA: 0s - loss: 0.9855 - accuracy: 0.5238WARNING:tensorflow:Can save best model only with val_acc available, skipping.\n",
      "1651/1651 [==============================] - 2577s 2s/step - loss: 0.9855 - accuracy: 0.5238 - val_loss: 0.6735 - val_accuracy: 0.7308\n",
      "Epoch 7/10\n",
      "1651/1651 [==============================] - ETA: 0s - loss: 0.9772 - accuracy: 0.5292WARNING:tensorflow:Can save best model only with val_acc available, skipping.\n",
      "1651/1651 [==============================] - 2561s 2s/step - loss: 0.9772 - accuracy: 0.5292 - val_loss: 0.6973 - val_accuracy: 0.5962\n"
     ]
    }
   ],
   "source": [
    "hist=model.fit(X_train,y_train_one_hot,validation_split=0.2,verbose=1,epochs=20,callbacks=my_callbacks,\n",
    "                        shuffle=True,class_weight=class_weight, batch_size=32)"
   ]
  },
  {
   "cell_type": "code",
   "execution_count": 21,
   "metadata": {},
   "outputs": [],
   "source": [
    "# save the model \n",
    "\n",
    "model.save('models/rnn.h5')"
   ]
  },
  {
   "cell_type": "markdown",
   "metadata": {},
   "source": [
    "## Model Visualization"
   ]
  },
  {
   "cell_type": "code",
   "execution_count": 22,
   "metadata": {},
   "outputs": [
    {
     "data": {
      "image/png": "[encoded data removed]",
      "text/plain": [
       "<Figure size 432x288 with 1 Axes>"
      ]
     },
     "metadata": {
      "needs_background": "light"
     },
     "output_type": "display_data"
    }
   ],
   "source": [
    "#Visualize the models accuracy\n",
    "plt.plot(hist.history['accuracy'])\n",
    "plt.plot(hist.history['val_accuracy'])\n",
    "plt.title('Model accuracy')\n",
    "plt.ylabel('Accuracy')\n",
    "plt.xlabel('Epoch')\n",
    "plt.legend(['Train', 'Val'], loc='upper left')\n",
    "plt.show()"
   ]
  },
  {
   "cell_type": "code",
   "execution_count": 23,
   "metadata": {},
   "outputs": [
    {
     "data": {
      "image/png": "[encoded data removed]",
      "text/plain": [
       "<Figure size 432x288 with 1 Axes>"
      ]
     },
     "metadata": {
      "needs_background": "light"
     },
     "output_type": "display_data"
    }
   ],
   "source": [
    "#Visualize the models loss\n",
    "plt.plot(hist.history['loss'])\n",
    "plt.plot(hist.history['val_loss'])\n",
    "plt.title('Model loss')\n",
    "plt.ylabel('Loss')\n",
    "plt.xlabel('Epoch')\n",
    "plt.legend(['Train', 'Val'], loc='upper right')\n",
    "plt.show()"
   ]
  },
  {
   "cell_type": "markdown",
   "metadata": {},
   "source": [
    "## Testing"
   ]
  },
  {
   "cell_type": "code",
   "execution_count": 24,
   "metadata": {},
   "outputs": [
    {
     "name": "stdout",
     "output_type": "stream",
     "text": [
      "575/575 [==============================] - 336s 584ms/step - loss: 0.6656 - accuracy: 0.7385\n",
      "Model Accuracy:  0.7384724020957947\n",
      "575/575 [==============================] - 319s 556ms/step - loss: 0.6656 - accuracy: 0.7385\n",
      "Model Loss:  0.6656085252761841\n"
     ]
    }
   ],
   "source": [
    "print(\"Model Accuracy: \",model.evaluate(x_test, y_test_one_hot)[1])\n",
    "print(\"Model Loss: \",model.evaluate(x_test, y_test_one_hot)[0])"
   ]
  },
  {
   "cell_type": "markdown",
   "metadata": {},
   "source": [
    "## Demo"
   ]
  },
  {
   "cell_type": "code",
   "execution_count": 27,
   "metadata": {},
   "outputs": [],
   "source": [
    "from sklearn.preprocessing import LabelBinarizer\n",
    "\n",
    "y_train = np.load('y_train.npy')\n",
    "\n",
    "y_test = np.load('y_test.npy')\n",
    "\n",
    "total_labels = np.concatenate((y_train, y_test), axis=0)\n",
    "labelbin = LabelBinarizer()\n",
    "lb = labelbin.fit_transform(total_labels)"
   ]
  },
  {
   "cell_type": "code",
   "execution_count": 28,
   "metadata": {},
   "outputs": [],
   "source": [
    "from collections import deque\n",
    "import cv2\n",
    "\n",
    "# open the video file to classify\n",
    "capture = cv2.VideoCapture(r\"Anomaly_Dataset\\Anomaly_Detection\\test\\Crime\\Assault011_x264.mp4\")\n",
    "width = int(capture.get(cv2.CAP_PROP_FRAME_WIDTH))   # float\n",
    "height = int(capture.get(cv2.CAP_PROP_FRAME_HEIGHT)) # float\n",
    "Queue = deque(maxlen=180)\n",
    "writer = None"
   ]
  },
  {
   "cell_type": "code",
   "execution_count": null,
   "metadata": {},
   "outputs": [],
   "source": [
    "# loop over frames from the video file stream\n",
    "while True:\n",
    "    \n",
    "    # read the next frame from the file\n",
    "    (grabbed, frame) = capture.read()\n",
    "\n",
    "    # if the frame was not grabbed, then we have reached the end of the stream\n",
    "    if not grabbed:\n",
    "        break\n",
    "\n",
    "\n",
    "    # clone the output frame # ordering, resize the frame to a fixed 224x224, and then perform mean subtraction\n",
    "    output = frame.copy()\n",
    "    frame = cv2.resize(frame,(960,240))\n",
    "    frame = cv2.cvtColor(frame,cv2.COLOR_BGR2GRAY )\n",
    "    \n",
    "    # make predictions on the frame and then update the predictions queue\n",
    "    preds = model.predict(np.expand_dims(frame, axis=0))\n",
    "    Queue.append(preds)\n",
    "\n",
    "    # perform prediction averaging over the current history of previous predictions\n",
    "    results = np.array(Queue).mean(axis=0)\n",
    "    i = np.argmax(results)\n",
    "    label = labelbin.classes_[i]\n",
    "    \n",
    "    # draw the activity on the output frame\n",
    "    if label ==0:\n",
    "        text = \"Crime Detected\"\n",
    "    if label ==1:\n",
    "        text = \"No Crime Detected\"\n",
    "        \n",
    "    cv2.putText(output, text, (25, 20), cv2.FONT_HERSHEY_SIMPLEX,1, (0, 255, 0), 2)\n",
    "\n",
    "    # check if the video writer is None\n",
    "    if writer is None:\n",
    "        # initialize our video writer\n",
    "        fourcc = cv2.VideoWriter_fourcc(*'MJPG')\n",
    "        writer = cv2.VideoWriter(\"output_3dcnn.avi\", fourcc, 30,(width, height))\n",
    "\n",
    "    # write the output frame to disk\n",
    "    writer.write(output)\n",
    "\n",
    "    # show the output image\n",
    "    cv2.imshow(\"Output\", output)\n",
    "    key = cv2.waitKey(1) & 0xFF\n",
    "\n",
    "    # if the `q` key was pressed, break from the loop\n",
    "    if key == ord(\"q\"):\n",
    "        break\n",
    "\n",
    "# release the file pointers\n",
    "writer.release()\n",
    "capture.release()\n",
    "cv2.destroyAllWindows()"
   ]
  }
 ],
 "metadata": {
  "kernelspec": {
   "display_name": "Python 3",
   "language": "python",
   "name": "python3"
  },
  "language_info": {
   "codemirror_mode": {
    "name": "ipython",
    "version": 3
   },
   "file_extension": ".py",
   "mimetype": "text/x-python",
   "name": "python",
   "nbconvert_exporter": "python",
   "pygments_lexer": "ipython3",
   "version": "3.8.5"
  }
 },
 "nbformat": 4,
 "nbformat_minor": 4
}
